{
  "nbformat": 4,
  "nbformat_minor": 0,
  "metadata": {
    "colab": {
      "provenance": [],
      "authorship_tag": "ABX9TyNck1JELisu/kdGH3ehI5yG",
      "include_colab_link": true
    },
    "kernelspec": {
      "name": "python3",
      "display_name": "Python 3"
    },
    "language_info": {
      "name": "python"
    }
  },
  "cells": [
    {
      "cell_type": "markdown",
      "metadata": {
        "id": "view-in-github",
        "colab_type": "text"
      },
      "source": [
        "<a href=\"https://colab.research.google.com/github/diyouva/Consignment-Goods-Analysis/blob/main/Untitled2.ipynb\" target=\"_parent\"><img src=\"https://colab.research.google.com/assets/colab-badge.svg\" alt=\"Open In Colab\"/></a>"
      ]
    },
    {
      "cell_type": "code",
      "source": [
        "def char_frequency(text):\n",
        "  text = ''.join(text.split())\n",
        "  text = text.lower()\n",
        "\n",
        "  result = {}\n",
        "  for word in text:\n",
        "    result[word] = result.get(word, 0) +1\n",
        "  sorted_result = sorted(result.items(), key=lambda x:x[1], \\\n",
        "                         reverse=True)\n",
        "  return sorted_result"
      ],
      "metadata": {
        "id": "fYDATwwuY_zP"
      },
      "execution_count": 1,
      "outputs": []
    },
    {
      "cell_type": "code",
      "source": [
        "text = \"Hello World\"\n",
        "char_frequency(text)"
      ],
      "metadata": {
        "colab": {
          "base_uri": "https://localhost:8080/"
        },
        "id": "jxth9ZVwZ-tU",
        "outputId": "3130822f-4ca9-4d14-95a3-46cef903c5f8"
      },
      "execution_count": 2,
      "outputs": [
        {
          "output_type": "execute_result",
          "data": {
            "text/plain": [
              "[('l', 3), ('o', 2), ('h', 1), ('e', 1), ('w', 1), ('r', 1), ('d', 1)]"
            ]
          },
          "metadata": {},
          "execution_count": 2
        }
      ]
    },
    {
      "cell_type": "code",
      "source": [
        "text = \"Hello World\"\n",
        "text.strip()"
      ],
      "metadata": {
        "colab": {
          "base_uri": "https://localhost:8080/",
          "height": 35
        },
        "id": "iHM8DoLjcj-k",
        "outputId": "0f110fdd-f0e5-44f8-baec-9a2da9680e8a"
      },
      "execution_count": 3,
      "outputs": [
        {
          "output_type": "execute_result",
          "data": {
            "text/plain": [
              "'Hello World'"
            ],
            "application/vnd.google.colaboratory.intrinsic+json": {
              "type": "string"
            }
          },
          "metadata": {},
          "execution_count": 3
        }
      ]
    },
    {
      "cell_type": "code",
      "source": [
        "words = [\"listen\", \"silent\", \"enlist\", \"rat\", \"tar\", \"art\", \"python\"]"
      ],
      "metadata": {
        "id": "P3_X2BnY6n2v"
      },
      "execution_count": 4,
      "outputs": []
    },
    {
      "cell_type": "code",
      "source": [
        "from collections import defaultdict\n",
        "\n",
        "grouped = defaultdict(list)\n",
        "\n",
        "for word in words:\n",
        "  key = ''.join(sorted(word))\n",
        "  grouped[key].append(word)\n",
        "\n",
        "grouped"
      ],
      "metadata": {
        "colab": {
          "base_uri": "https://localhost:8080/"
        },
        "id": "s4ITMeM-7Jvw",
        "outputId": "1ffbc192-a2aa-4976-a86a-90ebd9ac39ed"
      },
      "execution_count": 5,
      "outputs": [
        {
          "output_type": "execute_result",
          "data": {
            "text/plain": [
              "defaultdict(list,\n",
              "            {'eilnst': ['listen', 'silent', 'enlist'],\n",
              "             'art': ['rat', 'tar', 'art'],\n",
              "             'hnopty': ['python']})"
            ]
          },
          "metadata": {},
          "execution_count": 5
        }
      ]
    },
    {
      "cell_type": "code",
      "source": [
        "records = [\n",
        "    \"Python Crash Course,3,30.00\",\n",
        "    \"Python-Crash Course,2,28.50\",\n",
        "    \"Data Science 101,1,50.00\",\n",
        "    \"Data-Science-101,2,45.00\",\n",
        "    \"AI@Work,1,60.00\"\n",
        "]"
      ],
      "metadata": {
        "id": "ZjGzDEOv-tMy"
      },
      "execution_count": 6,
      "outputs": []
    },
    {
      "cell_type": "code",
      "source": [
        "from collections import defaultdict\n",
        "\n",
        "def book_record(records):\n",
        "  sales_record = defaultdict(lambda: {\"units\": 0, \"revenue\": 0.0})\n",
        "\n",
        "  for word in records:\n",
        "    title, quantity, price = word.split(\",\")\n",
        "    quantity = int(quantity)\n",
        "    price = float(price)\n",
        "\n",
        "    # clean title: letter and spaces only\n",
        "    title_cleaned = \"\"\n",
        "    for char in title:\n",
        "      if char.isalpha():\n",
        "        title_cleaned += char\n",
        "    title_cleaned = title_cleaned.lower().strip()\n",
        "\n",
        "    #update sales record\n",
        "    sales_record[title_cleaned][\"units\"] += quantity\n",
        "    sales_record[title_cleaned][\"revenue\"] += quantity * price\n",
        "\n",
        "  # Sort revenue\n",
        "  sorted_sales = sorted(sales_record.items(), key=lambda x: x[1][\"revenue\"], reverse=True)\n",
        "\n",
        "  # Print\n",
        "  for title_cleaned, data in sorted_sales:\n",
        "    print(f'Title: {title_cleaned}')\n",
        "    print(f'  Unit Sold: {data[\"units\"]}')\n",
        "    print(f'  Total Revenue: {data[\"revenue\"]}')"
      ],
      "metadata": {
        "id": "uwQIWuEI-zg7"
      },
      "execution_count": 7,
      "outputs": []
    },
    {
      "cell_type": "code",
      "source": [
        "book_record(records)"
      ],
      "metadata": {
        "colab": {
          "base_uri": "https://localhost:8080/"
        },
        "id": "W7XDSqyMBlXN",
        "outputId": "69e8196e-5ee5-440b-f876-f79693ec314c"
      },
      "execution_count": 8,
      "outputs": [
        {
          "output_type": "stream",
          "name": "stdout",
          "text": [
            "Title: pythoncrashcourse\n",
            "  Unit Sold: 5\n",
            "  Total Revenue: 147.0\n",
            "Title: datascience\n",
            "  Unit Sold: 3\n",
            "  Total Revenue: 140.0\n",
            "Title: aiwork\n",
            "  Unit Sold: 1\n",
            "  Total Revenue: 60.0\n"
          ]
        }
      ]
    },
    {
      "cell_type": "code",
      "source": [
        "posts = [\n",
        "    \"Loving #Python and #AI these days!\",\n",
        "    \"#AI is the future. #python is now.\",\n",
        "    \"Exploring #Data and #MachineLearning\",\n",
        "    \"#Python, #Data, and more #PYTHON!\",\n",
        "]"
      ],
      "metadata": {
        "id": "lUvedy_kHvs4"
      },
      "execution_count": 9,
      "outputs": []
    },
    {
      "cell_type": "code",
      "source": [
        "from collections import defaultdict\n",
        "\n",
        "def track_hashtags(posts):\n",
        "    hashtag_counts = defaultdict(int)\n",
        "\n",
        "    for post in posts:\n",
        "        words = post.split()\n",
        "        for word in words:\n",
        "            if word.startswith(\"#\"):\n",
        "                # Clean: remove punctuation, lowercase, keep only letters/numbers\n",
        "                cleaned = \"\".join(char for char in word[1:] if char.isalnum()).lower()\n",
        "                if cleaned:  # make sure it's not empty\n",
        "                    hashtag_counts[cleaned] += 1\n",
        "\n",
        "    # Sort by count descending\n",
        "    sorted_counts = sorted(hashtag_counts.items(), key=lambda x: x[1], reverse=True)\n",
        "\n",
        "    # Print results\n",
        "    for tag, count in sorted_counts:\n",
        "        print(f\"{tag}: {count}\")"
      ],
      "metadata": {
        "id": "iR-YShy8KgA4"
      },
      "execution_count": 10,
      "outputs": []
    },
    {
      "cell_type": "code",
      "source": [
        "# Week 1 – Python Basics\n",
        "# Use Case: Budget Calculator\n",
        "income = 5000\n",
        "rent = 1500\n",
        "utilities = 300\n",
        "groceries = 400\n",
        "savings = income - (rent + utilities + groceries)\n",
        "print(f\"Remaining savings: ${savings}\")"
      ],
      "metadata": {
        "colab": {
          "base_uri": "https://localhost:8080/"
        },
        "id": "YrpZrHZ7Khzw",
        "outputId": "5a843aeb-89e8-4671-d123-6ac79686dd0a"
      },
      "execution_count": 11,
      "outputs": [
        {
          "output_type": "stream",
          "name": "stdout",
          "text": [
            "Remaining savings: $2800\n"
          ]
        }
      ]
    },
    {
      "cell_type": "code",
      "source": [
        "# Week 2 – Slices, if/else, Functions, Input\n",
        "# Use Case: BMI Calculator with Categories\n",
        "def calculate_bmi(weight, height):\n",
        "    bmi = weight / height**2\n",
        "    if bmi < 18.5:\n",
        "        return \"Underweight\"\n",
        "    elif bmi < 25:\n",
        "        return \"Normal\"\n",
        "    elif bmi < 30:\n",
        "        return \"Overweight\"\n",
        "    else:\n",
        "        return \"Obese\"\n",
        "\n",
        "w = float(input(\"Enter weight (kg): \"))\n",
        "h = float(input(\"Enter height (m): \"))\n",
        "print(calculate_bmi(w, h))"
      ],
      "metadata": {
        "colab": {
          "base_uri": "https://localhost:8080/"
        },
        "id": "k2QiF3fDQd9_",
        "outputId": "1abb38f4-c077-4270-9092-426cc08aace7"
      },
      "execution_count": 12,
      "outputs": [
        {
          "output_type": "stream",
          "name": "stdout",
          "text": [
            "Enter weight (kg): 90\n",
            "Enter height (m): 9\n",
            "Underweight\n"
          ]
        }
      ]
    },
    {
      "cell_type": "code",
      "source": [
        "# Week 3 – Modules, Tuples, Sets, Dicts\n",
        "# Use Case: Student Gradebook\n",
        "import statistics\n",
        "\n",
        "grades = {'Alice': 90, 'Bob': 78, 'Charlie': 85}\n",
        "print(\"Average:\", statistics.mean(grades.values()))\n",
        "print(\"Unique Grades:\", set(grades.values()))"
      ],
      "metadata": {
        "colab": {
          "base_uri": "https://localhost:8080/"
        },
        "id": "PUyj-UbZQ9dc",
        "outputId": "362b9ba6-c994-4969-bd37-c788979f718e"
      },
      "execution_count": 13,
      "outputs": [
        {
          "output_type": "stream",
          "name": "stdout",
          "text": [
            "Average: 84.33333333333333\n",
            "Unique Grades: {90, 85, 78}\n"
          ]
        }
      ]
    },
    {
      "cell_type": "code",
      "source": [
        "import numpy as np\n",
        "\n",
        "grades = {'Alice': 90, 'Bob': 78, 'Charlie': 85}\n",
        "means = np.array(list(grades.values()))\n",
        "print(\"Average grade:\", means.mean())"
      ],
      "metadata": {
        "colab": {
          "base_uri": "https://localhost:8080/"
        },
        "id": "o55jjgqURGPn",
        "outputId": "9eb28963-e004-400e-88a8-6ef7909a784d"
      },
      "execution_count": 14,
      "outputs": [
        {
          "output_type": "stream",
          "name": "stdout",
          "text": [
            "Average grade: 84.33333333333333\n"
          ]
        }
      ]
    },
    {
      "cell_type": "code",
      "source": [
        "# Week 4 – Collections, Modules, Comprehensions\n",
        "# Use Case: Word Length Dictionary\n",
        "words = [\"data\", \"science\", \"AI\", \"Python\"]\n",
        "word_lengths = {word: len(word) for word in words}\n",
        "print(word_lengths)"
      ],
      "metadata": {
        "colab": {
          "base_uri": "https://localhost:8080/"
        },
        "id": "8r_H3zFSRqOP",
        "outputId": "3f10fb03-4f54-4ceb-b7e3-a733aa347b0e"
      },
      "execution_count": 15,
      "outputs": [
        {
          "output_type": "stream",
          "name": "stdout",
          "text": [
            "{'data': 4, 'science': 7, 'AI': 2, 'Python': 6}\n"
          ]
        }
      ]
    },
    {
      "cell_type": "code",
      "source": [
        "# Week 5 – Strings, Conversions, Advanced Comprehensions\n",
        "# Use Case: Hashtag Counter\n",
        "text = \"I love #Python and #DataScience! #Python is great.\"\n",
        "hashtags = [word for word in text.split() if word.startswith('#')]\n",
        "counts = {tag: hashtags.count(tag) for tag in set(hashtags)}\n",
        "print(counts)"
      ],
      "metadata": {
        "colab": {
          "base_uri": "https://localhost:8080/"
        },
        "id": "jPjn6HsGR2v3",
        "outputId": "d1617bfb-75c0-49a2-e347-800612168eeb"
      },
      "execution_count": 16,
      "outputs": [
        {
          "output_type": "stream",
          "name": "stdout",
          "text": [
            "{'#DataScience!': 1, '#Python': 2}\n"
          ]
        }
      ]
    },
    {
      "cell_type": "code",
      "source": [
        "# Week 6 – NumPy, Stats, Visualization\n",
        "# Use Case: Exam Score\n",
        "import numpy as np\n",
        "import matplotlib.pyplot as plt\n",
        "\n",
        "scores = np.random.normal(75, 10, 100)\n",
        "plt.hist(scores, bins=10, color='skyblue')\n",
        "plt.title(\"Exam Score Distribution\")\n",
        "plt.xlabel(\"Score\")\n",
        "plt.ylabel(\"Frequency\")\n",
        "plt.show()"
      ],
      "metadata": {
        "colab": {
          "base_uri": "https://localhost:8080/",
          "height": 472
        },
        "id": "W1pgrnfYSJ-5",
        "outputId": "43c6a62b-6a74-4762-9c70-03baac800b38"
      },
      "execution_count": 17,
      "outputs": [
        {
          "output_type": "display_data",
          "data": {
            "text/plain": [
              "<Figure size 640x480 with 1 Axes>"
            ],
            "image/png": "[encoded data removed]"
          },
          "metadata": {}
        }
      ]
    },
    {
      "cell_type": "code",
      "source": [
        "'''\n",
        "🧠 Practice Exam Question\n",
        "\n",
        "Write a function word_stats(text) that:\n",
        "\t1.\tAccepts a string text as input\n",
        "\t2.\tSplits the text into words\n",
        "\t3.\tIgnores punctuation (assume only ., ,, !, ?)\n",
        "\t4.\tConverts all words to lowercase\n",
        "\t5.\tReturns a dictionary where each key is a word and the value is the number of times that word appears in the text\n",
        "\n",
        "example:\n",
        ">>> word_stats(\"Hello world! Hello again, world.\")\n",
        "{'hello': 2, 'world': 2, 'again': 1}\n",
        "'''\n",
        "\n",
        "def word_stats():\n",
        "  text = input(\"Enter text: \")\n",
        "  counted_word = {}\n",
        "  words = text.split()\n",
        "  for word in words:\n",
        "    word = word.lower().strip('.,!?')\n",
        "    counted_word[word] = counted_word.get(word, 0) +1\n",
        "  return counted_word\n",
        "\n",
        "word_stats()"
      ],
      "metadata": {
        "colab": {
          "base_uri": "https://localhost:8080/"
        },
        "id": "PQRrGFeBTO3h",
        "outputId": "eb155c25-ee98-4683-faa6-d9a843117414"
      },
      "execution_count": 18,
      "outputs": [
        {
          "name": "stdout",
          "output_type": "stream",
          "text": [
            "Enter text: dfsdfsdf\n"
          ]
        },
        {
          "output_type": "execute_result",
          "data": {
            "text/plain": [
              "{'dfsdfsdf': 1}"
            ]
          },
          "metadata": {},
          "execution_count": 18
        }
      ]
    },
    {
      "cell_type": "code",
      "source": [
        "\"\"\"\n",
        "Practice Question: Vowel Counter per Word\n",
        "\n",
        "Write a function vowel_count(text) that:\n",
        "\t1.\tAccepts a string of text as input\n",
        "\t2.\tCleans the words by removing ., ,, !, and ?, and converts them to lowercase\n",
        "\t3.\tSplits the text into individual words\n",
        "\t4.\tFor each unique word, counts the total number of vowels (a, e, i, o, u) it contains\n",
        "\t5.\tReturns a dictionary where the keys are words, and the values are the vowel counts for each word\n",
        "\n",
        ">>> vowel_count(\"Data is beautiful. Beautiful is better!\")\n",
        "{'data': 2, 'is': 1, 'beautiful': 5, 'better': 2}\n",
        "\"\"\""
      ],
      "metadata": {
        "colab": {
          "base_uri": "https://localhost:8080/",
          "height": 87
        },
        "id": "ArvU9k8eXmqd",
        "outputId": "89959463-c7d1-45ba-b817-4c2ac84ebbf8"
      },
      "execution_count": 19,
      "outputs": [
        {
          "output_type": "execute_result",
          "data": {
            "text/plain": [
              "'\\nPractice Question: Vowel Counter per Word\\n\\nWrite a function vowel_count(text) that:\\n\\t1.\\tAccepts a string of text as input\\n\\t2.\\tCleans the words by removing ., ,, !, and ?, and converts them to lowercase\\n\\t3.\\tSplits the text into individual words\\n\\t4.\\tFor each unique word, counts the total number of vowels (a, e, i, o, u) it contains\\n\\t5.\\tReturns a dictionary where the keys are words, and the values are the vowel counts for each word\\n\\n>>> vowel_count(\"Data is beautiful. Beautiful is better!\")\\n{\\'data\\': 2, \\'is\\': 1, \\'beautiful\\': 5, \\'better\\': 2}\\n'"
            ],
            "application/vnd.google.colaboratory.intrinsic+json": {
              "type": "string"
            }
          },
          "metadata": {},
          "execution_count": 19
        }
      ]
    },
    {
      "cell_type": "code",
      "source": [
        "def vowel_count():\n",
        "    text = input(\"Enter your sentence: \")\n",
        "    text = text.lower()\n",
        "    words = text.split()\n",
        "\n",
        "    counted_word = {}\n",
        "    vowels = 'aeiou'\n",
        "\n",
        "    for word in set(words):\n",
        "        clean_word = word.strip('.,!?')\n",
        "        total_vowels = sum(clean_word.count(v) for v in vowels)\n",
        "        counted_word[clean_word] = total_vowels\n",
        "\n",
        "    return counted_word\n",
        "\n",
        "print(vowel_count())"
      ],
      "metadata": {
        "colab": {
          "base_uri": "https://localhost:8080/"
        },
        "id": "G3LRRUASXvvp",
        "outputId": "4f5bff70-d1de-4d43-e22a-88b171aa1895"
      },
      "execution_count": 20,
      "outputs": [
        {
          "output_type": "stream",
          "name": "stdout",
          "text": [
            "Enter your sentence: sdfsdf\n",
            "{'sdfsdf': 0}\n"
          ]
        }
      ]
    },
    {
      "cell_type": "code",
      "source": [
        "\"\"\"\n",
        "Write a function consonant_count(text) that:\n",
        "\t1.\tAccepts a sentence as input\n",
        "\t2.\tConverts the text to lowercase and removes punctuation (., ,, !, ?)\n",
        "\t3.\tSplits the sentence into words\n",
        "\t4.\tFor each unique word, counts how many consonants it contains\n",
        "\t5.\tReturns a dictionary where the key is the word and the value is the number of consonants in it\n",
        "\n",
        ">>> consonant_count(\"Python is powerful, and fun!\")\n",
        "{'python': 5, 'is': 1, 'powerful': 5, 'and': 2, 'fun': 2}\n",
        "\"\"\"\n",
        "\n",
        "text = input(\"masukan kalimat disini: \")\n",
        "def consonant_count(text):\n",
        "  text = text.lower().strip('.,!?')\n",
        "  words = text.split()\n",
        "\n",
        "  vowel = ('aiueo')\n",
        "  counted_word = {}\n",
        "\n",
        "  for word in set(words):\n",
        "    total = sum(1 for char in word if char.isalpha() and char not in vowel)\n",
        "    counted_word[word] = total\n",
        "  return counted_word\n",
        "\n",
        "consonant_count(text)"
      ],
      "metadata": {
        "colab": {
          "base_uri": "https://localhost:8080/"
        },
        "id": "VFnfMSmqd-_r",
        "outputId": "5fbc3c88-90a7-4ef6-8466-2f4519a310bb"
      },
      "execution_count": 21,
      "outputs": [
        {
          "name": "stdout",
          "output_type": "stream",
          "text": [
            "masukan kalimat disini: sdfsdfd\n"
          ]
        },
        {
          "output_type": "execute_result",
          "data": {
            "text/plain": [
              "{'sdfsdfd': 7}"
            ]
          },
          "metadata": {},
          "execution_count": 21
        }
      ]
    },
    {
      "cell_type": "code",
      "source": [
        "\"\"\"\n",
        "Practice Question: Word Length Classifier\n",
        "\n",
        "Write a function word_length_classify(text) that:\n",
        "\t1.\tAccepts a sentence as input\n",
        "\t2.\tRemoves punctuation (., ,, !, ?) and converts the text to lowercase\n",
        "\t3.\tSplits the sentence into individual words\n",
        "\t4.\tReturns a dictionary where:\n",
        "\t•\tKeys are the words\n",
        "\t•\tValues are the length category:\n",
        "\t•\t'short' if the word has 1–3 letters\n",
        "\t•\t'medium' if 4–6 letters\n",
        "\t•\t'long' if 7 or more letters\n",
        "\"\"\"\n",
        "#example:\n",
        "# word_length_classify(\"Big ideas come from creative people!\")\n",
        "# {'big': 'short', 'ideas': 'medium', 'come': 'medium', 'from': 'medium', 'creative': 'long', 'people': 'long'}\n",
        "\n",
        "import string\n",
        "\n",
        "text = \"Big ideas come from creative people!\"\n",
        "def word_length_classify(text):\n",
        "  text = ''.join(char for char in text if char not in string.punctuation)\n",
        "  text = text.lower().split()\n",
        "\n",
        "  dict = {}\n",
        "  for word in set(text):\n",
        "    if len(word) <= 3:\n",
        "      dict[word] = 'short'\n",
        "    elif len(word) >= 7:\n",
        "      dict[word] = 'long'\n",
        "    else:\n",
        "      dict[word] = 'medium'\n",
        "  return dict\n",
        "\n",
        "word_length_classify(text)"
      ],
      "metadata": {
        "colab": {
          "base_uri": "https://localhost:8080/"
        },
        "id": "o_8YQhameS1t",
        "outputId": "55874d8a-8dfb-4870-f210-e4a5d8a99b12"
      },
      "execution_count": 22,
      "outputs": [
        {
          "output_type": "execute_result",
          "data": {
            "text/plain": [
              "{'from': 'medium',\n",
              " 'creative': 'long',\n",
              " 'people': 'medium',\n",
              " 'big': 'short',\n",
              " 'come': 'medium',\n",
              " 'ideas': 'medium'}"
            ]
          },
          "metadata": {},
          "execution_count": 22
        }
      ]
    },
    {
      "cell_type": "code",
      "source": [
        "from collections.abc import Collection\n",
        "\"\"\"\n",
        "Practice Case: Word Frequency from File (Simulated)\n",
        "\n",
        "Write a function file_word_frequency(lines) that:\n",
        "\t1.\tAccepts a list of strings (simulating lines from a file)\n",
        "\t2.\tFor each line:\n",
        "\t•\tConvert to lowercase\n",
        "\t•\tRemove punctuation (., ,, !, ?)\n",
        "\t•\tSplit into words\n",
        "\t3.\tCount how often each word appears in the whole file (all lines)\n",
        "\t4.\tReturn a dictionary with:\n",
        "\t•\tKeys: words\n",
        "\t•\tValues: word counts\n",
        "\n",
        "example:\n",
        "lines = [\n",
        "    \"Data science is fun!\",\n",
        "    \"Fun with Python, fun with code.\",\n",
        "    \"Data is power.\"\n",
        "]\n",
        ">>> file_word_frequency(lines)\n",
        "{'data': 2, 'science': 1, 'is': 2, 'fun': 3, 'with': 2, 'python': 1, 'code': 1, 'power': 1}\n",
        "\"\"\"\n",
        "\n",
        "lines = [\n",
        "    \"Data science is fun!\",\n",
        "    \"Fun with Python, fun with code.\",\n",
        "    \"Data is power.\"\n",
        "]\n",
        "\n",
        "import string\n",
        "\n",
        "def file_word_frequency(lines):\n",
        "    word_counts = {}\n",
        "\n",
        "    for line in lines:\n",
        "        # Clean and normalize the line\n",
        "        line = line.lower()\n",
        "        line = ''.join(char for char in line if char not in string.punctuation)\n",
        "        words = line.split()\n",
        "\n",
        "        # Count each word\n",
        "        for word in words:\n",
        "            word_counts[word] = word_counts.get(word, 0) + 1\n",
        "\n",
        "    return word_counts"
      ],
      "metadata": {
        "id": "rQK9otHuibJt"
      },
      "execution_count": 23,
      "outputs": []
    },
    {
      "cell_type": "code",
      "source": [
        "import string\n",
        "\n",
        "lines = [\n",
        "    \"Data science is fun!\",\n",
        "    \"Fun with Python, fun with code.\",\n",
        "    \"Data is power.\"\n",
        "]\n",
        "\n",
        "counted_word = {}\n",
        "for line in lines:\n",
        "  line = line.lower()\n",
        "  line = ''.join(char for char in line if char not in string.punctuation)\n",
        "  words = line.split()\n",
        "\n",
        "  for word in words:\n",
        "    counted_word[word] = counted_word.get(word, 0) +1\n",
        "print(counted_word)"
      ],
      "metadata": {
        "colab": {
          "base_uri": "https://localhost:8080/"
        },
        "id": "ll7dOJsFxMcJ",
        "outputId": "14afb580-14f9-4880-f0d8-8c2b73220afd"
      },
      "execution_count": 24,
      "outputs": [
        {
          "output_type": "stream",
          "name": "stdout",
          "text": [
            "{'data': 2, 'science': 1, 'is': 2, 'fun': 3, 'with': 2, 'python': 1, 'code': 1, 'power': 1}\n"
          ]
        }
      ]
    },
    {
      "cell_type": "code",
      "source": [
        "\"\"\"\n",
        "Final Practice Case: Most Common Word Length\n",
        "\n",
        "Write a function most_common_word_length(text) that:\n",
        "\t1.\tAccepts a long string (a paragraph)\n",
        "\t2.\tCleans the string: lowercase and remove punctuation (., ,, !, ?)\n",
        "\t3.\tSplits it into words\n",
        "\t4.\tFor each word, determine its length\n",
        "\t5.\tCount how many words there are for each length\n",
        "\t6.\tReturn a dictionary like {3: 4, 5: 2, 7: 3} where keys are lengths and values are word counts\n",
        "\t7.\tPrint the most common word length(s)\n",
        "\n",
        "Example Output:\n",
        "{4: 3, 2: 2, 1: 1, 8: 2, 5: 1, 13: 1, 3: 1}\n",
        "Most common word length(s): 4 (3 words)\n",
        "\"\"\"\n",
        "import string\n",
        "\n",
        "text = \"This is a practice test. This final exercise is comprehensive and rewarding!\"\n",
        "\n",
        "def most_common_word_length(text):\n",
        "  text = text.lower()\n",
        "  text = ''.join(char for char in text if char not in string.punctuation)\n",
        "  words = text.split()\n",
        "\n",
        "  result = {}\n",
        "  for word in words:\n",
        "    length = len(word)\n",
        "    result[length] = result.get(length, 0) +1\n",
        "\n",
        "  sorted_result = sorted(result.items(), key=lambda x:x[1], reverse=True)\n",
        "\n",
        "  print(result)\n",
        "  print(f\"Most common word length(s): {sorted_result[0][0]} ({sorted_result[0][1]} words)\")\n",
        "\n",
        "most_common_word_length(text)"
      ],
      "metadata": {
        "colab": {
          "base_uri": "https://localhost:8080/"
        },
        "id": "IOiue6tffSzA",
        "outputId": "5d817e2a-29fd-45e2-8954-48e86864b962"
      },
      "execution_count": 36,
      "outputs": [
        {
          "output_type": "stream",
          "name": "stdout",
          "text": [
            "{4: 3, 2: 2, 1: 1, 8: 2, 5: 1, 13: 1, 3: 1, 9: 1}\n",
            "Most common word length(s): 4 (3 words)\n"
          ]
        }
      ]
    },
    {
      "cell_type": "code",
      "source": [
        "\"\"\"\n",
        "Practice Case: Unique Word Extractor with Minimum Length\n",
        "\n",
        "Write a function unique_words(text, min_length) that:\n",
        "\t1.\tAccepts a string text and an integer min_length\n",
        "\t2.\tCleans the string (lowercase, remove punctuation: ., ,, !, ?)\n",
        "\t3.\tSplits it into words\n",
        "\t4.\tFilters out words that are shorter than min_length\n",
        "\t5.\tReturns a sorted list of unique words that meet the length condition\n",
        "\n",
        "example:\n",
        ">>> text = \"Python is powerful. Python is easy to learn, but powerful!\"\n",
        ">>> unique_words(text, 5)\n",
        "['learn', 'powerful', 'python']\n",
        "\"\"\"\n",
        "\n",
        "import string\n",
        "\n",
        "text = \"Python is powerful. Python is easy to learn, but powerful!\"\n",
        "\n",
        "def unique_words(text, min_length):\n",
        "  text = text.lower()\n",
        "  text = ''.join(char for char in text if char not in string.punctuation)\n",
        "  words = text.split()\n",
        "\n",
        "  lista = []\n",
        "  for word in set(words):\n",
        "    if len(word) >= min_length:\n",
        "      lista.append(word)\n",
        "    else:\n",
        "      pass\n",
        "  return lista\n",
        "\n",
        "unique_words(text, 5)"
      ],
      "metadata": {
        "colab": {
          "base_uri": "https://localhost:8080/"
        },
        "id": "iNawy7x2rTsl",
        "outputId": "12c12a78-8af9-478a-e8e3-90facae35914"
      },
      "execution_count": 52,
      "outputs": [
        {
          "output_type": "execute_result",
          "data": {
            "text/plain": [
              "['learn', 'powerful', 'python']"
            ]
          },
          "metadata": {},
          "execution_count": 52
        }
      ]
    },
    {
      "cell_type": "code",
      "source": [
        "\"\"\"\n",
        "Practice Case: Top N Frequent Words\n",
        "\n",
        "Write a function top_n_words(text, n) that:\n",
        "\t1.\tAccepts a string of text and an integer n\n",
        "\t2.\tCleans the string (lowercase, remove punctuation: ., ,, !, ?)\n",
        "\t3.\tSplits the string into words\n",
        "\t4.\tCounts how many times each word appears\n",
        "\t5.\tReturns a list of the n most frequent words, sorted from most to least frequent\n",
        "\t6.\tIf two words have the same frequency, sort them alphabetically\n",
        "\n",
        "example:\n",
        ">>> text = \"Data science is fun. Science is powerful. Science is repeatable.\"\n",
        ">>> top_n_words(text, 3)\n",
        "['science', 'is', 'data']\n",
        "\"\"\"\n",
        "import string\n",
        "from collections import defaultdict\n",
        "\n",
        "text = \"Data science is fun. Science is powerful. Science is repeatable.\"\n",
        "\n",
        "def top_n_words(text, n):\n",
        "  text = text.lower()\n",
        "  text = ''.join(char for char in text if char not in string.punctuation)\n",
        "  words = text.split()\n",
        "\n",
        "  freq_words = defaultdict(list)\n",
        "  for word in words:\n",
        "    freq_words[word] = freq_words.get(word, 0) +1\n",
        "\n",
        "  sorted_words = sorted(freq_words.items(), key=lambda x: (-x[1], x[0]))\n",
        "  return [word for word, count in sorted_words[:n]]\n",
        "\n",
        "top_n_words(text, 3)\n",
        "\n"
      ],
      "metadata": {
        "colab": {
          "base_uri": "https://localhost:8080/"
        },
        "id": "GbeUEfLqumtl",
        "outputId": "59f342bf-6612-4da8-da71-682fa7cc29f0"
      },
      "execution_count": 70,
      "outputs": [
        {
          "output_type": "execute_result",
          "data": {
            "text/plain": [
              "['is', 'science', 'data']"
            ]
          },
          "metadata": {},
          "execution_count": 70
        }
      ]
    },
    {
      "cell_type": "code",
      "source": [
        "\"\"\"\n",
        "Practice Case: Group Words by First Letter\n",
        "\n",
        "✅ Deskripsi:\n",
        "\n",
        "Buat fungsi group_words_by_letter(text) yang:\n",
        "\t1.\tMenerima sebuah kalimat panjang (string)\n",
        "\t2.\tMembersihkan teks: lowercase, hapus tanda baca (., ,, !, ?)\n",
        "\t3.\tMemecah kalimat menjadi kata-kata\n",
        "\t4.\tMengelompokkan kata-kata berdasarkan huruf awalnya\n",
        "\t5.\tMengembalikan dictionary di mana:\n",
        "\t•\tkey = huruf awal\n",
        "\t•\tvalue = list kata yang dimulai dengan huruf tersebut (tanpa duplikat)\n",
        "\n",
        "text = \"Data drives decisions. Decisions demand data. Drive deep!\"\n",
        "\n",
        "output diharapkan:\n",
        "{\n",
        "  'd': ['data', 'drives', 'decisions', 'demand', 'drive', 'deep']\n",
        "}\n",
        "\"\"\"\n",
        "\n",
        "import string\n",
        "from collections import defaultdict\n",
        "\n",
        "text = \"Data drives decisions. Decisions demand data. Drive deep!\"\n",
        "\n",
        "def group_words_by_letter(text):\n",
        "  result = defaultdict(list)\n",
        "\n",
        "  text = text.lower()\n",
        "  text = ''.join(word for word in text if word not in string.punctuation)\n",
        "  words = text.split()\n",
        "\n",
        "  for word in words:\n",
        "    k = word[0]\n",
        "    result[k].append(word)\n",
        "  return result\n",
        "\n",
        "group_words_by_letter(text)"
      ],
      "metadata": {
        "colab": {
          "base_uri": "https://localhost:8080/"
        },
        "id": "Xvbn-YBgFY7Y",
        "outputId": "c24bcba8-fd03-4484-97af-9cbc55e3cf37"
      },
      "execution_count": 92,
      "outputs": [
        {
          "output_type": "execute_result",
          "data": {
            "text/plain": [
              "defaultdict(list,\n",
              "            {'d': ['data',\n",
              "              'drives',\n",
              "              'decisions',\n",
              "              'decisions',\n",
              "              'demand',\n",
              "              'data',\n",
              "              'drive',\n",
              "              'deep']})"
            ]
          },
          "metadata": {},
          "execution_count": 92
        }
      ]
    }
  ]
}